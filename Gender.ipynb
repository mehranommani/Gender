{
 "cells": [
  {
   "cell_type": "markdown",
   "id": "4011ea6b",
   "metadata": {},
   "source": [
    "# Required Libraries"
   ]
  },
  {
   "cell_type": "code",
   "execution_count": 305,
   "id": "f756c6bc",
   "metadata": {
    "scrolled": true
   },
   "outputs": [
    {
     "name": "stdout",
     "output_type": "stream",
     "text": [
      "Requirement already satisfied: Faker in /Users/mehranommani/miniconda3/envs/tensorflow/lib/python3.10/site-packages (19.3.0)\n",
      "Requirement already satisfied: python-dateutil>=2.4 in /Users/mehranommani/miniconda3/envs/tensorflow/lib/python3.10/site-packages (from Faker) (2.8.2)\n",
      "Requirement already satisfied: six>=1.5 in /Users/mehranommani/miniconda3/envs/tensorflow/lib/python3.10/site-packages (from python-dateutil>=2.4->Faker) (1.16.0)\n",
      "Requirement already satisfied: names-dataset in /Users/mehranommani/miniconda3/envs/tensorflow/lib/python3.10/site-packages (3.1.0)\n",
      "Requirement already satisfied: pycountry in /Users/mehranommani/miniconda3/envs/tensorflow/lib/python3.10/site-packages (from names-dataset) (22.3.5)\n",
      "Requirement already satisfied: setuptools in /Users/mehranommani/miniconda3/envs/tensorflow/lib/python3.10/site-packages (from pycountry->names-dataset) (67.7.2)\n",
      "Requirement already satisfied: nltk in /Users/mehranommani/miniconda3/envs/tensorflow/lib/python3.10/site-packages (3.8.1)\n",
      "Requirement already satisfied: click in /Users/mehranommani/miniconda3/envs/tensorflow/lib/python3.10/site-packages (from nltk) (8.1.3)\n",
      "Requirement already satisfied: joblib in /Users/mehranommani/miniconda3/envs/tensorflow/lib/python3.10/site-packages (from nltk) (1.2.0)\n",
      "Requirement already satisfied: regex>=2021.8.3 in /Users/mehranommani/miniconda3/envs/tensorflow/lib/python3.10/site-packages (from nltk) (2023.8.8)\n",
      "Requirement already satisfied: tqdm in /Users/mehranommani/miniconda3/envs/tensorflow/lib/python3.10/site-packages (from nltk) (4.65.0)\n"
     ]
    }
   ],
   "source": [
    "!pip install Faker\n",
    "!pip install names-dataset"
   ]
  },
  {
   "cell_type": "markdown",
   "id": "93932a10",
   "metadata": {},
   "source": [
    "Using faker we can generate fake names in different languages:"
   ]
  },
  {
   "cell_type": "code",
   "execution_count": 306,
   "id": "d74556f2",
   "metadata": {},
   "outputs": [],
   "source": [
    "from faker import Faker"
   ]
  },
  {
   "cell_type": "code",
   "execution_count": 307,
   "id": "22543cd7",
   "metadata": {},
   "outputs": [],
   "source": [
    "en_fake = Faker()\n",
    "de_fake = Faker('de_DE')"
   ]
  },
  {
   "cell_type": "markdown",
   "id": "0a664dfc",
   "metadata": {},
   "source": [
    "### By using names dataset you can get gender and country info from a name:"
   ]
  },
  {
   "cell_type": "code",
   "execution_count": 308,
   "id": "17e2499c",
   "metadata": {},
   "outputs": [],
   "source": [
    "from names_dataset import NameDataset\n",
    "\n",
    "# This line takes time some time as the database is massive.\n",
    "nd = NameDataset()"
   ]
  },
  {
   "cell_type": "code",
   "execution_count": 343,
   "id": "ac4cead5",
   "metadata": {
    "scrolled": true
   },
   "outputs": [
    {
     "data": {
      "text/plain": [
       "{'first_name': {'country': {'Colombia': 0.195,\n",
       "   'Germany': 0.087,\n",
       "   'Spain': 0.045,\n",
       "   'France': 0.211,\n",
       "   'United Kingdom': 0.046,\n",
       "   'Italy': 0.091,\n",
       "   'Peru': 0.064,\n",
       "   'Portugal': 0.052,\n",
       "   'Russian Federation': 0.068,\n",
       "   'United States': 0.14},\n",
       "  'gender': {'Female': 0.99, 'Male': 0.01},\n",
       "  'rank': {'Colombia': 113,\n",
       "   'Germany': 94,\n",
       "   'Spain': 287,\n",
       "   'France': 122,\n",
       "   'United Kingdom': 316,\n",
       "   'Italy': 401,\n",
       "   'Peru': 149,\n",
       "   'Portugal': 60,\n",
       "   'Russian Federation': 170,\n",
       "   'United States': 312}},\n",
       " 'last_name': {'country': {'Canada': 0.03,\n",
       "   'Chile': 0.138,\n",
       "   'Colombia': 0.117,\n",
       "   'Spain': 0.042,\n",
       "   'France': 0.082,\n",
       "   'United Kingdom': 0.07,\n",
       "   'Italy': 0.177,\n",
       "   'Peru': 0.058,\n",
       "   'Portugal': 0.172,\n",
       "   'United States': 0.113},\n",
       "  'gender': {},\n",
       "  'rank': {'Canada': 753,\n",
       "   'Chile': 441,\n",
       "   'Colombia': 1022,\n",
       "   'Spain': 1360,\n",
       "   'France': 1608,\n",
       "   'United Kingdom': 1604,\n",
       "   'Italy': 2077,\n",
       "   'Peru': 805,\n",
       "   'Portugal': 140,\n",
       "   'United States': 2352}}}"
      ]
     },
     "execution_count": 343,
     "metadata": {},
     "output_type": "execute_result"
    }
   ],
   "source": [
    "nd.search('Alexandra')"
   ]
  },
  {
   "cell_type": "code",
   "execution_count": 344,
   "id": "0302900a",
   "metadata": {},
   "outputs": [
    {
     "data": {
      "text/plain": [
       "{'Female': 0.99, 'Male': 0.01}"
      ]
     },
     "execution_count": 344,
     "metadata": {},
     "output_type": "execute_result"
    }
   ],
   "source": [
    "# Alexandra is 99% likely to be Female\n",
    "nd.search('Alexandra')['first_name']['gender']"
   ]
  },
  {
   "cell_type": "markdown",
   "id": "9d989664",
   "metadata": {},
   "source": [
    "# Generate Fake Data\n",
    "\n",
    "Let's first define a function that randomly genrates English or German names."
   ]
  },
  {
   "cell_type": "code",
   "execution_count": 311,
   "id": "3414b8f1",
   "metadata": {},
   "outputs": [],
   "source": [
    "import pandas as pd\n",
    "import numpy as np"
   ]
  },
  {
   "cell_type": "code",
   "execution_count": 312,
   "id": "e42a2475",
   "metadata": {},
   "outputs": [],
   "source": [
    "def make_name():\n",
    "    \"\"\"\n",
    "    This function generate a German name in 50% of the times and\n",
    "    an English name in the other 50% of the times.\n",
    "    \"\"\"\n",
    "    if np.random.rand() > 0.5:\n",
    "        return en_fake.name()\n",
    "    \n",
    "    return de_fake.name()"
   ]
  },
  {
   "cell_type": "markdown",
   "id": "45a7e4d7",
   "metadata": {},
   "source": [
    "Now it is so easy to generate random German and English names."
   ]
  },
  {
   "cell_type": "code",
   "execution_count": 313,
   "id": "d83a3662",
   "metadata": {},
   "outputs": [
    {
     "data": {
      "text/plain": [
       "['Raimund Drub',\n",
       " 'Veronique Rohleder',\n",
       " 'Lisa Joseph',\n",
       " 'Alex Brewer',\n",
       " 'Monika Hornig',\n",
       " 'Jessica Price',\n",
       " 'Diedrich Striebitz-Hermighausen',\n",
       " 'Tim Rodriguez',\n",
       " 'Magdalena Hauffer',\n",
       " 'Randy Johnson']"
      ]
     },
     "execution_count": 313,
     "metadata": {},
     "output_type": "execute_result"
    }
   ],
   "source": [
    "[make_name() for _ in range(10)]"
   ]
  },
  {
   "cell_type": "markdown",
   "id": "c93ad23a",
   "metadata": {},
   "source": [
    "#### let's build our dataset now:"
   ]
  },
  {
   "cell_type": "code",
   "execution_count": 314,
   "id": "383ccd3e",
   "metadata": {},
   "outputs": [],
   "source": [
    "df = pd.DataFrame({\n",
    "    'Name': [make_name() for _ in range(100)]\n",
    "})"
   ]
  },
  {
   "cell_type": "code",
   "execution_count": 315,
   "id": "a6045e3b",
   "metadata": {},
   "outputs": [
    {
     "data": {
      "text/html": [
       "<div>\n",
       "<style scoped>\n",
       "    .dataframe tbody tr th:only-of-type {\n",
       "        vertical-align: middle;\n",
       "    }\n",
       "\n",
       "    .dataframe tbody tr th {\n",
       "        vertical-align: top;\n",
       "    }\n",
       "\n",
       "    .dataframe thead th {\n",
       "        text-align: right;\n",
       "    }\n",
       "</style>\n",
       "<table border=\"1\" class=\"dataframe\">\n",
       "  <thead>\n",
       "    <tr style=\"text-align: right;\">\n",
       "      <th></th>\n",
       "      <th>Name</th>\n",
       "    </tr>\n",
       "  </thead>\n",
       "  <tbody>\n",
       "    <tr>\n",
       "      <th>0</th>\n",
       "      <td>Misty Bailey</td>\n",
       "    </tr>\n",
       "    <tr>\n",
       "      <th>1</th>\n",
       "      <td>Dr. Lilly Kitzmann B.A.</td>\n",
       "    </tr>\n",
       "    <tr>\n",
       "      <th>2</th>\n",
       "      <td>Georgios Siering-Ackermann</td>\n",
       "    </tr>\n",
       "    <tr>\n",
       "      <th>3</th>\n",
       "      <td>Bernhardine Steckel</td>\n",
       "    </tr>\n",
       "    <tr>\n",
       "      <th>4</th>\n",
       "      <td>Michelle Flores</td>\n",
       "    </tr>\n",
       "    <tr>\n",
       "      <th>...</th>\n",
       "      <td>...</td>\n",
       "    </tr>\n",
       "    <tr>\n",
       "      <th>95</th>\n",
       "      <td>Shirley Moreno</td>\n",
       "    </tr>\n",
       "    <tr>\n",
       "      <th>96</th>\n",
       "      <td>Alla Klemm B.Eng.</td>\n",
       "    </tr>\n",
       "    <tr>\n",
       "      <th>97</th>\n",
       "      <td>Sean Stewart</td>\n",
       "    </tr>\n",
       "    <tr>\n",
       "      <th>98</th>\n",
       "      <td>Donald Powell</td>\n",
       "    </tr>\n",
       "    <tr>\n",
       "      <th>99</th>\n",
       "      <td>Sandra Boyer</td>\n",
       "    </tr>\n",
       "  </tbody>\n",
       "</table>\n",
       "<p>100 rows × 1 columns</p>\n",
       "</div>"
      ],
      "text/plain": [
       "                          Name\n",
       "0                 Misty Bailey\n",
       "1      Dr. Lilly Kitzmann B.A.\n",
       "2   Georgios Siering-Ackermann\n",
       "3          Bernhardine Steckel\n",
       "4              Michelle Flores\n",
       "..                         ...\n",
       "95              Shirley Moreno\n",
       "96           Alla Klemm B.Eng.\n",
       "97                Sean Stewart\n",
       "98               Donald Powell\n",
       "99                Sandra Boyer\n",
       "\n",
       "[100 rows x 1 columns]"
      ]
     },
     "execution_count": 315,
     "metadata": {},
     "output_type": "execute_result"
    }
   ],
   "source": [
    "df"
   ]
  },
  {
   "cell_type": "code",
   "execution_count": 316,
   "id": "83b975d7",
   "metadata": {},
   "outputs": [
    {
     "data": {
      "text/plain": [
       "'Giovanna Warmer'"
      ]
     },
     "execution_count": 316,
     "metadata": {},
     "output_type": "execute_result"
    }
   ],
   "source": [
    "full_name = de_fake.name()\n",
    "full_name"
   ]
  },
  {
   "cell_type": "code",
   "execution_count": 317,
   "id": "ff083cef",
   "metadata": {
    "scrolled": true
   },
   "outputs": [],
   "source": [
    "names = len(full_name.split())"
   ]
  },
  {
   "cell_type": "code",
   "execution_count": 318,
   "id": "f49e3cb1",
   "metadata": {},
   "outputs": [
    {
     "data": {
      "text/plain": [
       "2"
      ]
     },
     "execution_count": 318,
     "metadata": {},
     "output_type": "execute_result"
    }
   ],
   "source": [
    "names"
   ]
  },
  {
   "cell_type": "markdown",
   "id": "0e03bc3e",
   "metadata": {},
   "source": [
    "## Remove Titiles From name"
   ]
  },
  {
   "cell_type": "code",
   "execution_count": 319,
   "id": "7fa9dc48",
   "metadata": {},
   "outputs": [],
   "source": [
    "def remove_titles(name):\n",
    "    titles = [\"Prof.\", \"Dr.\", \"Mr.\", \"Ms.\", \"Mrs.\", \"Frau\", \"Herr\"]  # Add more titles if needed\n",
    "    for title in titles:\n",
    "        if name.startswith(title):\n",
    "            name = name[len(title):].strip()  # Remove title and leading spaces\n",
    "            break\n",
    "    return name"
   ]
  },
  {
   "cell_type": "markdown",
   "id": "d64bd28d",
   "metadata": {},
   "source": [
    "## Extract First name Mid and Last name\n",
    "\n",
    "To predict gender and country using a name, we need the first name and last names separate. We can simply assume that the first part of a name is the first name and the last par is last name. For example:"
   ]
  },
  {
   "cell_type": "code",
   "execution_count": 320,
   "id": "16a64b89",
   "metadata": {},
   "outputs": [
    {
     "data": {
      "text/plain": [
       "('Susann', 'Oderwald', 'B.Eng.')"
      ]
     },
     "execution_count": 320,
     "metadata": {},
     "output_type": "execute_result"
    }
   ],
   "source": [
    "def extract_name(first_name, mid_name, last_name):\n",
    "    if names > 2:\n",
    "        first_name, mid_name,last_name = full_name.split()\n",
    "        result = first_name, mid_name,last_name\n",
    "    else:\n",
    "        first_name,last_name = full_name.split()\n",
    "        result = first_name,last_name\n",
    "result"
   ]
  },
  {
   "cell_type": "code",
   "execution_count": 321,
   "id": "9a8a2476",
   "metadata": {
    "scrolled": true
   },
   "outputs": [
    {
     "data": {
      "text/plain": [
       "'Susann'"
      ]
     },
     "execution_count": 321,
     "metadata": {},
     "output_type": "execute_result"
    }
   ],
   "source": [
    "first_name"
   ]
  },
  {
   "cell_type": "code",
   "execution_count": 327,
   "id": "1b57eaed",
   "metadata": {},
   "outputs": [],
   "source": [
    "df['Name'] = df['Name'].apply(remove_titles)"
   ]
  },
  {
   "cell_type": "code",
   "execution_count": 329,
   "id": "56adee3a",
   "metadata": {},
   "outputs": [],
   "source": [
    "df['First Name'] = df['Name'].apply(lambda full_name: full_name.split()[0])"
   ]
  },
  {
   "cell_type": "code",
   "execution_count": 330,
   "id": "0eca0a64",
   "metadata": {},
   "outputs": [],
   "source": [
    "df['Mid Name'] = df['Name'].apply(lambda full_name: full_name.split()[1] if len(full_name.split()) > 2 else None)"
   ]
  },
  {
   "cell_type": "code",
   "execution_count": 331,
   "id": "1b0f8754",
   "metadata": {},
   "outputs": [],
   "source": [
    "df['Last Name'] = df['Name'].apply(lambda full_name: full_name.split()[-1])"
   ]
  },
  {
   "cell_type": "code",
   "execution_count": 332,
   "id": "67c92ee5",
   "metadata": {},
   "outputs": [
    {
     "data": {
      "text/html": [
       "<div>\n",
       "<style scoped>\n",
       "    .dataframe tbody tr th:only-of-type {\n",
       "        vertical-align: middle;\n",
       "    }\n",
       "\n",
       "    .dataframe tbody tr th {\n",
       "        vertical-align: top;\n",
       "    }\n",
       "\n",
       "    .dataframe thead th {\n",
       "        text-align: right;\n",
       "    }\n",
       "</style>\n",
       "<table border=\"1\" class=\"dataframe\">\n",
       "  <thead>\n",
       "    <tr style=\"text-align: right;\">\n",
       "      <th></th>\n",
       "      <th>Name</th>\n",
       "      <th>First Name</th>\n",
       "      <th>Mid Name</th>\n",
       "      <th>Last Name</th>\n",
       "    </tr>\n",
       "  </thead>\n",
       "  <tbody>\n",
       "    <tr>\n",
       "      <th>0</th>\n",
       "      <td>Misty Bailey</td>\n",
       "      <td>Misty</td>\n",
       "      <td>None</td>\n",
       "      <td>Bailey</td>\n",
       "    </tr>\n",
       "    <tr>\n",
       "      <th>1</th>\n",
       "      <td>Lilly Kitzmann B.A.</td>\n",
       "      <td>Lilly</td>\n",
       "      <td>Kitzmann</td>\n",
       "      <td>B.A.</td>\n",
       "    </tr>\n",
       "    <tr>\n",
       "      <th>2</th>\n",
       "      <td>Georgios Siering-Ackermann</td>\n",
       "      <td>Georgios</td>\n",
       "      <td>None</td>\n",
       "      <td>Siering-Ackermann</td>\n",
       "    </tr>\n",
       "    <tr>\n",
       "      <th>3</th>\n",
       "      <td>Bernhardine Steckel</td>\n",
       "      <td>Bernhardine</td>\n",
       "      <td>None</td>\n",
       "      <td>Steckel</td>\n",
       "    </tr>\n",
       "    <tr>\n",
       "      <th>4</th>\n",
       "      <td>Michelle Flores</td>\n",
       "      <td>Michelle</td>\n",
       "      <td>None</td>\n",
       "      <td>Flores</td>\n",
       "    </tr>\n",
       "    <tr>\n",
       "      <th>...</th>\n",
       "      <td>...</td>\n",
       "      <td>...</td>\n",
       "      <td>...</td>\n",
       "      <td>...</td>\n",
       "    </tr>\n",
       "    <tr>\n",
       "      <th>95</th>\n",
       "      <td>Shirley Moreno</td>\n",
       "      <td>Shirley</td>\n",
       "      <td>None</td>\n",
       "      <td>Moreno</td>\n",
       "    </tr>\n",
       "    <tr>\n",
       "      <th>96</th>\n",
       "      <td>Alla Klemm B.Eng.</td>\n",
       "      <td>Alla</td>\n",
       "      <td>Klemm</td>\n",
       "      <td>B.Eng.</td>\n",
       "    </tr>\n",
       "    <tr>\n",
       "      <th>97</th>\n",
       "      <td>Sean Stewart</td>\n",
       "      <td>Sean</td>\n",
       "      <td>None</td>\n",
       "      <td>Stewart</td>\n",
       "    </tr>\n",
       "    <tr>\n",
       "      <th>98</th>\n",
       "      <td>Donald Powell</td>\n",
       "      <td>Donald</td>\n",
       "      <td>None</td>\n",
       "      <td>Powell</td>\n",
       "    </tr>\n",
       "    <tr>\n",
       "      <th>99</th>\n",
       "      <td>Sandra Boyer</td>\n",
       "      <td>Sandra</td>\n",
       "      <td>None</td>\n",
       "      <td>Boyer</td>\n",
       "    </tr>\n",
       "  </tbody>\n",
       "</table>\n",
       "<p>100 rows × 4 columns</p>\n",
       "</div>"
      ],
      "text/plain": [
       "                          Name   First Name  Mid Name          Last Name\n",
       "0                 Misty Bailey        Misty      None             Bailey\n",
       "1          Lilly Kitzmann B.A.        Lilly  Kitzmann               B.A.\n",
       "2   Georgios Siering-Ackermann     Georgios      None  Siering-Ackermann\n",
       "3          Bernhardine Steckel  Bernhardine      None            Steckel\n",
       "4              Michelle Flores     Michelle      None             Flores\n",
       "..                         ...          ...       ...                ...\n",
       "95              Shirley Moreno      Shirley      None             Moreno\n",
       "96           Alla Klemm B.Eng.         Alla     Klemm             B.Eng.\n",
       "97                Sean Stewart         Sean      None            Stewart\n",
       "98               Donald Powell       Donald      None             Powell\n",
       "99                Sandra Boyer       Sandra      None              Boyer\n",
       "\n",
       "[100 rows x 4 columns]"
      ]
     },
     "execution_count": 332,
     "metadata": {},
     "output_type": "execute_result"
    }
   ],
   "source": [
    "df"
   ]
  },
  {
   "cell_type": "markdown",
   "id": "da9076ee",
   "metadata": {},
   "source": [
    "# Predict Gender\n",
    "\n",
    "Now let's generate gender and country info from a name. Let's write a function that given a first name, returns gender and country.\n",
    "\n"
   ]
  },
  {
   "cell_type": "code",
   "execution_count": 333,
   "id": "b933d436",
   "metadata": {},
   "outputs": [],
   "source": [
    "def name_to_gender(first_name):\n",
    "    info = nd.search(first_name)['first_name']\n",
    "    if info is None:\n",
    "        return None\n",
    "    \n",
    "    return max(info['gender'], key=info['gender'].get)"
   ]
  },
  {
   "cell_type": "code",
   "execution_count": 337,
   "id": "a17e3ed7",
   "metadata": {},
   "outputs": [
    {
     "data": {
      "text/plain": [
       "'Male'"
      ]
     },
     "execution_count": 337,
     "metadata": {},
     "output_type": "execute_result"
    }
   ],
   "source": [
    "name_to_gender('Kevin')"
   ]
  },
  {
   "cell_type": "code",
   "execution_count": 338,
   "id": "526f0e72",
   "metadata": {},
   "outputs": [
    {
     "name": "stdout",
     "output_type": "stream",
     "text": [
      "None\n"
     ]
    }
   ],
   "source": [
    "# For unknown names, it returns None\n",
    "print(name_to_gender('abc'))"
   ]
  },
  {
   "cell_type": "markdown",
   "id": "e9106b65",
   "metadata": {},
   "source": [
    "Let's apply this function on our dataframe and extract gender:"
   ]
  },
  {
   "cell_type": "code",
   "execution_count": 339,
   "id": "cefaec79",
   "metadata": {},
   "outputs": [],
   "source": [
    "df['Gender'] = df['First Name'].apply(lambda fn: name_to_gender(fn))"
   ]
  },
  {
   "cell_type": "code",
   "execution_count": 340,
   "id": "99b44687",
   "metadata": {},
   "outputs": [
    {
     "data": {
      "text/html": [
       "<div>\n",
       "<style scoped>\n",
       "    .dataframe tbody tr th:only-of-type {\n",
       "        vertical-align: middle;\n",
       "    }\n",
       "\n",
       "    .dataframe tbody tr th {\n",
       "        vertical-align: top;\n",
       "    }\n",
       "\n",
       "    .dataframe thead th {\n",
       "        text-align: right;\n",
       "    }\n",
       "</style>\n",
       "<table border=\"1\" class=\"dataframe\">\n",
       "  <thead>\n",
       "    <tr style=\"text-align: right;\">\n",
       "      <th></th>\n",
       "      <th>Name</th>\n",
       "      <th>First Name</th>\n",
       "      <th>Mid Name</th>\n",
       "      <th>Last Name</th>\n",
       "      <th>Gender</th>\n",
       "    </tr>\n",
       "  </thead>\n",
       "  <tbody>\n",
       "    <tr>\n",
       "      <th>0</th>\n",
       "      <td>Misty Bailey</td>\n",
       "      <td>Misty</td>\n",
       "      <td>None</td>\n",
       "      <td>Bailey</td>\n",
       "      <td>Female</td>\n",
       "    </tr>\n",
       "    <tr>\n",
       "      <th>1</th>\n",
       "      <td>Lilly Kitzmann B.A.</td>\n",
       "      <td>Lilly</td>\n",
       "      <td>Kitzmann</td>\n",
       "      <td>B.A.</td>\n",
       "      <td>Female</td>\n",
       "    </tr>\n",
       "    <tr>\n",
       "      <th>2</th>\n",
       "      <td>Georgios Siering-Ackermann</td>\n",
       "      <td>Georgios</td>\n",
       "      <td>None</td>\n",
       "      <td>Siering-Ackermann</td>\n",
       "      <td>Male</td>\n",
       "    </tr>\n",
       "    <tr>\n",
       "      <th>3</th>\n",
       "      <td>Bernhardine Steckel</td>\n",
       "      <td>Bernhardine</td>\n",
       "      <td>None</td>\n",
       "      <td>Steckel</td>\n",
       "      <td>Female</td>\n",
       "    </tr>\n",
       "    <tr>\n",
       "      <th>4</th>\n",
       "      <td>Michelle Flores</td>\n",
       "      <td>Michelle</td>\n",
       "      <td>None</td>\n",
       "      <td>Flores</td>\n",
       "      <td>Female</td>\n",
       "    </tr>\n",
       "    <tr>\n",
       "      <th>...</th>\n",
       "      <td>...</td>\n",
       "      <td>...</td>\n",
       "      <td>...</td>\n",
       "      <td>...</td>\n",
       "      <td>...</td>\n",
       "    </tr>\n",
       "    <tr>\n",
       "      <th>95</th>\n",
       "      <td>Shirley Moreno</td>\n",
       "      <td>Shirley</td>\n",
       "      <td>None</td>\n",
       "      <td>Moreno</td>\n",
       "      <td>Female</td>\n",
       "    </tr>\n",
       "    <tr>\n",
       "      <th>96</th>\n",
       "      <td>Alla Klemm B.Eng.</td>\n",
       "      <td>Alla</td>\n",
       "      <td>Klemm</td>\n",
       "      <td>B.Eng.</td>\n",
       "      <td>Female</td>\n",
       "    </tr>\n",
       "    <tr>\n",
       "      <th>97</th>\n",
       "      <td>Sean Stewart</td>\n",
       "      <td>Sean</td>\n",
       "      <td>None</td>\n",
       "      <td>Stewart</td>\n",
       "      <td>Male</td>\n",
       "    </tr>\n",
       "    <tr>\n",
       "      <th>98</th>\n",
       "      <td>Donald Powell</td>\n",
       "      <td>Donald</td>\n",
       "      <td>None</td>\n",
       "      <td>Powell</td>\n",
       "      <td>Male</td>\n",
       "    </tr>\n",
       "    <tr>\n",
       "      <th>99</th>\n",
       "      <td>Sandra Boyer</td>\n",
       "      <td>Sandra</td>\n",
       "      <td>None</td>\n",
       "      <td>Boyer</td>\n",
       "      <td>Female</td>\n",
       "    </tr>\n",
       "  </tbody>\n",
       "</table>\n",
       "<p>100 rows × 5 columns</p>\n",
       "</div>"
      ],
      "text/plain": [
       "                          Name   First Name  Mid Name          Last Name  \\\n",
       "0                 Misty Bailey        Misty      None             Bailey   \n",
       "1          Lilly Kitzmann B.A.        Lilly  Kitzmann               B.A.   \n",
       "2   Georgios Siering-Ackermann     Georgios      None  Siering-Ackermann   \n",
       "3          Bernhardine Steckel  Bernhardine      None            Steckel   \n",
       "4              Michelle Flores     Michelle      None             Flores   \n",
       "..                         ...          ...       ...                ...   \n",
       "95              Shirley Moreno      Shirley      None             Moreno   \n",
       "96           Alla Klemm B.Eng.         Alla     Klemm             B.Eng.   \n",
       "97                Sean Stewart         Sean      None            Stewart   \n",
       "98               Donald Powell       Donald      None             Powell   \n",
       "99                Sandra Boyer       Sandra      None              Boyer   \n",
       "\n",
       "    Gender  \n",
       "0   Female  \n",
       "1   Female  \n",
       "2     Male  \n",
       "3   Female  \n",
       "4   Female  \n",
       "..     ...  \n",
       "95  Female  \n",
       "96  Female  \n",
       "97    Male  \n",
       "98    Male  \n",
       "99  Female  \n",
       "\n",
       "[100 rows x 5 columns]"
      ]
     },
     "execution_count": 340,
     "metadata": {},
     "output_type": "execute_result"
    }
   ],
   "source": [
    "df"
   ]
  },
  {
   "cell_type": "code",
   "execution_count": null,
   "id": "e9f47fba",
   "metadata": {},
   "outputs": [],
   "source": []
  }
 ],
 "metadata": {
  "kernelspec": {
   "display_name": "Python 3.10 (tensorflow)",
   "language": "python",
   "name": "tensorflow"
  },
  "language_info": {
   "codemirror_mode": {
    "name": "ipython",
    "version": 3
   },
   "file_extension": ".py",
   "mimetype": "text/x-python",
   "name": "python",
   "nbconvert_exporter": "python",
   "pygments_lexer": "ipython3",
   "version": "3.10.11"
  }
 },
 "nbformat": 4,
 "nbformat_minor": 5
}
